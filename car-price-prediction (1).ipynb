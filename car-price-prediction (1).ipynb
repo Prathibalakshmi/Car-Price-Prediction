{
 "cells": [
  {
   "cell_type": "markdown",
   "metadata": {},
   "source": [
    "### Import Libraries"
   ]
  },
  {
   "cell_type": "code",
   "execution_count": 2,
   "metadata": {
    "execution": {
     "iopub.execute_input": "2023-12-12T06:55:25.823136Z",
     "iopub.status.busy": "2023-12-12T06:55:25.822648Z",
     "iopub.status.idle": "2023-12-12T06:55:26.883231Z",
     "shell.execute_reply": "2023-12-12T06:55:26.881737Z",
     "shell.execute_reply.started": "2023-12-12T06:55:25.823092Z"
    }
   },
   "outputs": [],
   "source": [
    "import pandas as pd\n",
    "import matplotlib.pyplot as plt\n",
    "import seaborn as sns\n",
    "from sklearn.model_selection import train_test_split\n",
    "from sklearn.linear_model import LinearRegression\n",
    "from sklearn.linear_model import Lasso\n",
    "from sklearn import metrics"
   ]
  },
  {
   "cell_type": "markdown",
   "metadata": {},
   "source": [
    "### Data Collection and Processing"
   ]
  },
  {
   "cell_type": "code",
   "execution_count": 3,
   "metadata": {
    "execution": {
     "iopub.execute_input": "2023-12-12T06:55:41.367043Z",
     "iopub.status.busy": "2023-12-12T06:55:41.366548Z",
     "iopub.status.idle": "2023-12-12T06:55:41.395674Z",
     "shell.execute_reply": "2023-12-12T06:55:41.393733Z",
     "shell.execute_reply.started": "2023-12-12T06:55:41.366992Z"
    }
   },
   "outputs": [],
   "source": [
    "# Loading the data from csv file to pandas dataframe\n",
    "car_dataset=pd.read_csv(\"/kaggle/input/vehicle-dataset-from-cardekho/car data.csv\")"
   ]
  },
  {
   "cell_type": "code",
   "execution_count": 4,
   "metadata": {
    "execution": {
     "iopub.execute_input": "2023-12-12T06:55:44.282900Z",
     "iopub.status.busy": "2023-12-12T06:55:44.282471Z",
     "iopub.status.idle": "2023-12-12T06:55:44.321043Z",
     "shell.execute_reply": "2023-12-12T06:55:44.320044Z",
     "shell.execute_reply.started": "2023-12-12T06:55:44.282863Z"
    }
   },
   "outputs": [
    {
     "data": {
      "text/html": [
       "<div>\n",
       "<style scoped>\n",
       "    .dataframe tbody tr th:only-of-type {\n",
       "        vertical-align: middle;\n",
       "    }\n",
       "\n",
       "    .dataframe tbody tr th {\n",
       "        vertical-align: top;\n",
       "    }\n",
       "\n",
       "    .dataframe thead th {\n",
       "        text-align: right;\n",
       "    }\n",
       "</style>\n",
       "<table border=\"1\" class=\"dataframe\">\n",
       "  <thead>\n",
       "    <tr style=\"text-align: right;\">\n",
       "      <th></th>\n",
       "      <th>Car_Name</th>\n",
       "      <th>Year</th>\n",
       "      <th>Selling_Price</th>\n",
       "      <th>Present_Price</th>\n",
       "      <th>Kms_Driven</th>\n",
       "      <th>Fuel_Type</th>\n",
       "      <th>Seller_Type</th>\n",
       "      <th>Transmission</th>\n",
       "      <th>Owner</th>\n",
       "    </tr>\n",
       "  </thead>\n",
       "  <tbody>\n",
       "    <tr>\n",
       "      <th>0</th>\n",
       "      <td>ritz</td>\n",
       "      <td>2014</td>\n",
       "      <td>3.35</td>\n",
       "      <td>5.59</td>\n",
       "      <td>27000</td>\n",
       "      <td>Petrol</td>\n",
       "      <td>Dealer</td>\n",
       "      <td>Manual</td>\n",
       "      <td>0</td>\n",
       "    </tr>\n",
       "    <tr>\n",
       "      <th>1</th>\n",
       "      <td>sx4</td>\n",
       "      <td>2013</td>\n",
       "      <td>4.75</td>\n",
       "      <td>9.54</td>\n",
       "      <td>43000</td>\n",
       "      <td>Diesel</td>\n",
       "      <td>Dealer</td>\n",
       "      <td>Manual</td>\n",
       "      <td>0</td>\n",
       "    </tr>\n",
       "    <tr>\n",
       "      <th>2</th>\n",
       "      <td>ciaz</td>\n",
       "      <td>2017</td>\n",
       "      <td>7.25</td>\n",
       "      <td>9.85</td>\n",
       "      <td>6900</td>\n",
       "      <td>Petrol</td>\n",
       "      <td>Dealer</td>\n",
       "      <td>Manual</td>\n",
       "      <td>0</td>\n",
       "    </tr>\n",
       "    <tr>\n",
       "      <th>3</th>\n",
       "      <td>wagon r</td>\n",
       "      <td>2011</td>\n",
       "      <td>2.85</td>\n",
       "      <td>4.15</td>\n",
       "      <td>5200</td>\n",
       "      <td>Petrol</td>\n",
       "      <td>Dealer</td>\n",
       "      <td>Manual</td>\n",
       "      <td>0</td>\n",
       "    </tr>\n",
       "    <tr>\n",
       "      <th>4</th>\n",
       "      <td>swift</td>\n",
       "      <td>2014</td>\n",
       "      <td>4.60</td>\n",
       "      <td>6.87</td>\n",
       "      <td>42450</td>\n",
       "      <td>Diesel</td>\n",
       "      <td>Dealer</td>\n",
       "      <td>Manual</td>\n",
       "      <td>0</td>\n",
       "    </tr>\n",
       "  </tbody>\n",
       "</table>\n",
       "</div>"
      ],
      "text/plain": [
       "  Car_Name  Year  Selling_Price  Present_Price  Kms_Driven Fuel_Type  \\\n",
       "0     ritz  2014           3.35           5.59       27000    Petrol   \n",
       "1      sx4  2013           4.75           9.54       43000    Diesel   \n",
       "2     ciaz  2017           7.25           9.85        6900    Petrol   \n",
       "3  wagon r  2011           2.85           4.15        5200    Petrol   \n",
       "4    swift  2014           4.60           6.87       42450    Diesel   \n",
       "\n",
       "  Seller_Type Transmission  Owner  \n",
       "0      Dealer       Manual      0  \n",
       "1      Dealer       Manual      0  \n",
       "2      Dealer       Manual      0  \n",
       "3      Dealer       Manual      0  \n",
       "4      Dealer       Manual      0  "
      ]
     },
     "execution_count": 4,
     "metadata": {},
     "output_type": "execute_result"
    }
   ],
   "source": [
    "# readind the first five rows\n",
    "car_dataset.head()"
   ]
  },
  {
   "cell_type": "code",
   "execution_count": 5,
   "metadata": {
    "execution": {
     "iopub.execute_input": "2023-12-12T06:55:45.789028Z",
     "iopub.status.busy": "2023-12-12T06:55:45.787660Z",
     "iopub.status.idle": "2023-12-12T06:55:45.797806Z",
     "shell.execute_reply": "2023-12-12T06:55:45.796178Z",
     "shell.execute_reply.started": "2023-12-12T06:55:45.788953Z"
    }
   },
   "outputs": [
    {
     "data": {
      "text/plain": [
       "(301, 9)"
      ]
     },
     "execution_count": 5,
     "metadata": {},
     "output_type": "execute_result"
    }
   ],
   "source": [
    "# checking the number of rows and columns\n",
    "car_dataset.shape"
   ]
  },
  {
   "cell_type": "code",
   "execution_count": 6,
   "metadata": {
    "execution": {
     "iopub.execute_input": "2023-12-12T06:55:46.965741Z",
     "iopub.status.busy": "2023-12-12T06:55:46.965256Z",
     "iopub.status.idle": "2023-12-12T06:55:46.994358Z",
     "shell.execute_reply": "2023-12-12T06:55:46.993406Z",
     "shell.execute_reply.started": "2023-12-12T06:55:46.965698Z"
    }
   },
   "outputs": [
    {
     "name": "stdout",
     "output_type": "stream",
     "text": [
      "<class 'pandas.core.frame.DataFrame'>\n",
      "RangeIndex: 301 entries, 0 to 300\n",
      "Data columns (total 9 columns):\n",
      " #   Column         Non-Null Count  Dtype  \n",
      "---  ------         --------------  -----  \n",
      " 0   Car_Name       301 non-null    object \n",
      " 1   Year           301 non-null    int64  \n",
      " 2   Selling_Price  301 non-null    float64\n",
      " 3   Present_Price  301 non-null    float64\n",
      " 4   Kms_Driven     301 non-null    int64  \n",
      " 5   Fuel_Type      301 non-null    object \n",
      " 6   Seller_Type    301 non-null    object \n",
      " 7   Transmission   301 non-null    object \n",
      " 8   Owner          301 non-null    int64  \n",
      "dtypes: float64(2), int64(3), object(4)\n",
      "memory usage: 21.3+ KB\n"
     ]
    }
   ],
   "source": [
    "# getting information about the dataframe\n",
    "car_dataset.info()"
   ]
  },
  {
   "cell_type": "code",
   "execution_count": 7,
   "metadata": {
    "execution": {
     "iopub.execute_input": "2023-12-12T06:55:47.786510Z",
     "iopub.status.busy": "2023-12-12T06:55:47.785711Z",
     "iopub.status.idle": "2023-12-12T06:55:47.797195Z",
     "shell.execute_reply": "2023-12-12T06:55:47.795886Z",
     "shell.execute_reply.started": "2023-12-12T06:55:47.786465Z"
    }
   },
   "outputs": [
    {
     "data": {
      "text/plain": [
       "Car_Name         0\n",
       "Year             0\n",
       "Selling_Price    0\n",
       "Present_Price    0\n",
       "Kms_Driven       0\n",
       "Fuel_Type        0\n",
       "Seller_Type      0\n",
       "Transmission     0\n",
       "Owner            0\n",
       "dtype: int64"
      ]
     },
     "execution_count": 7,
     "metadata": {},
     "output_type": "execute_result"
    }
   ],
   "source": [
    "# checking the missing values\n",
    "car_dataset.isnull().sum()"
   ]
  },
  {
   "cell_type": "code",
   "execution_count": 8,
   "metadata": {
    "execution": {
     "iopub.execute_input": "2023-12-12T06:55:48.274584Z",
     "iopub.status.busy": "2023-12-12T06:55:48.273702Z",
     "iopub.status.idle": "2023-12-12T06:55:48.285650Z",
     "shell.execute_reply": "2023-12-12T06:55:48.284270Z",
     "shell.execute_reply.started": "2023-12-12T06:55:48.274534Z"
    }
   },
   "outputs": [
    {
     "name": "stdout",
     "output_type": "stream",
     "text": [
      "Petrol    239\n",
      "Diesel     60\n",
      "CNG         2\n",
      "Name: Fuel_Type, dtype: int64\n",
      "Dealer        195\n",
      "Individual    106\n",
      "Name: Seller_Type, dtype: int64\n",
      "Manual       261\n",
      "Automatic     40\n",
      "Name: Transmission, dtype: int64\n"
     ]
    }
   ],
   "source": [
    "#Checking the distribution of categorical Data\n",
    "print(car_dataset.Fuel_Type.value_counts())\n",
    "print(car_dataset.Seller_Type.value_counts())\n",
    "print(car_dataset.Transmission.value_counts())\n"
   ]
  },
  {
   "cell_type": "markdown",
   "metadata": {},
   "source": [
    "### Label Encoding\n",
    "Encoding the categorical data"
   ]
  },
  {
   "cell_type": "code",
   "execution_count": 9,
   "metadata": {
    "execution": {
     "iopub.execute_input": "2023-12-12T06:55:49.380718Z",
     "iopub.status.busy": "2023-12-12T06:55:49.380201Z",
     "iopub.status.idle": "2023-12-12T06:55:49.397303Z",
     "shell.execute_reply": "2023-12-12T06:55:49.395668Z",
     "shell.execute_reply.started": "2023-12-12T06:55:49.380674Z"
    }
   },
   "outputs": [],
   "source": [
    "# as machine learning model cannot understand text we are going to convert the text to numerical value\n",
    "# Encoding \"Fuel_Type Column\"\n",
    "car_dataset.replace({'Fuel_Type':{'Petrol':0,'Diesel':1,'CNG':2}},inplace=True)\n",
    "\n",
    "# Encoding Seller Column\"\n",
    "car_dataset.replace({'Seller_Type':{'Dealer':0,'Individual':1}},inplace=True)\n",
    "\n",
    "# Encoding \"Transmission Column\"\n",
    "car_dataset.replace({'Transmission':{'Manual':0,'Automatic':1}},inplace=True)"
   ]
  },
  {
   "cell_type": "code",
   "execution_count": 10,
   "metadata": {
    "execution": {
     "iopub.execute_input": "2023-12-12T06:55:50.007434Z",
     "iopub.status.busy": "2023-12-12T06:55:50.006895Z",
     "iopub.status.idle": "2023-12-12T06:55:50.025203Z",
     "shell.execute_reply": "2023-12-12T06:55:50.024061Z",
     "shell.execute_reply.started": "2023-12-12T06:55:50.007393Z"
    }
   },
   "outputs": [
    {
     "data": {
      "text/html": [
       "<div>\n",
       "<style scoped>\n",
       "    .dataframe tbody tr th:only-of-type {\n",
       "        vertical-align: middle;\n",
       "    }\n",
       "\n",
       "    .dataframe tbody tr th {\n",
       "        vertical-align: top;\n",
       "    }\n",
       "\n",
       "    .dataframe thead th {\n",
       "        text-align: right;\n",
       "    }\n",
       "</style>\n",
       "<table border=\"1\" class=\"dataframe\">\n",
       "  <thead>\n",
       "    <tr style=\"text-align: right;\">\n",
       "      <th></th>\n",
       "      <th>Car_Name</th>\n",
       "      <th>Year</th>\n",
       "      <th>Selling_Price</th>\n",
       "      <th>Present_Price</th>\n",
       "      <th>Kms_Driven</th>\n",
       "      <th>Fuel_Type</th>\n",
       "      <th>Seller_Type</th>\n",
       "      <th>Transmission</th>\n",
       "      <th>Owner</th>\n",
       "    </tr>\n",
       "  </thead>\n",
       "  <tbody>\n",
       "    <tr>\n",
       "      <th>0</th>\n",
       "      <td>ritz</td>\n",
       "      <td>2014</td>\n",
       "      <td>3.35</td>\n",
       "      <td>5.59</td>\n",
       "      <td>27000</td>\n",
       "      <td>0</td>\n",
       "      <td>0</td>\n",
       "      <td>0</td>\n",
       "      <td>0</td>\n",
       "    </tr>\n",
       "    <tr>\n",
       "      <th>1</th>\n",
       "      <td>sx4</td>\n",
       "      <td>2013</td>\n",
       "      <td>4.75</td>\n",
       "      <td>9.54</td>\n",
       "      <td>43000</td>\n",
       "      <td>1</td>\n",
       "      <td>0</td>\n",
       "      <td>0</td>\n",
       "      <td>0</td>\n",
       "    </tr>\n",
       "    <tr>\n",
       "      <th>2</th>\n",
       "      <td>ciaz</td>\n",
       "      <td>2017</td>\n",
       "      <td>7.25</td>\n",
       "      <td>9.85</td>\n",
       "      <td>6900</td>\n",
       "      <td>0</td>\n",
       "      <td>0</td>\n",
       "      <td>0</td>\n",
       "      <td>0</td>\n",
       "    </tr>\n",
       "    <tr>\n",
       "      <th>3</th>\n",
       "      <td>wagon r</td>\n",
       "      <td>2011</td>\n",
       "      <td>2.85</td>\n",
       "      <td>4.15</td>\n",
       "      <td>5200</td>\n",
       "      <td>0</td>\n",
       "      <td>0</td>\n",
       "      <td>0</td>\n",
       "      <td>0</td>\n",
       "    </tr>\n",
       "    <tr>\n",
       "      <th>4</th>\n",
       "      <td>swift</td>\n",
       "      <td>2014</td>\n",
       "      <td>4.60</td>\n",
       "      <td>6.87</td>\n",
       "      <td>42450</td>\n",
       "      <td>1</td>\n",
       "      <td>0</td>\n",
       "      <td>0</td>\n",
       "      <td>0</td>\n",
       "    </tr>\n",
       "  </tbody>\n",
       "</table>\n",
       "</div>"
      ],
      "text/plain": [
       "  Car_Name  Year  Selling_Price  Present_Price  Kms_Driven  Fuel_Type  \\\n",
       "0     ritz  2014           3.35           5.59       27000          0   \n",
       "1      sx4  2013           4.75           9.54       43000          1   \n",
       "2     ciaz  2017           7.25           9.85        6900          0   \n",
       "3  wagon r  2011           2.85           4.15        5200          0   \n",
       "4    swift  2014           4.60           6.87       42450          1   \n",
       "\n",
       "   Seller_Type  Transmission  Owner  \n",
       "0            0             0      0  \n",
       "1            0             0      0  \n",
       "2            0             0      0  \n",
       "3            0             0      0  \n",
       "4            0             0      0  "
      ]
     },
     "execution_count": 10,
     "metadata": {},
     "output_type": "execute_result"
    }
   ],
   "source": [
    "car_dataset.head()"
   ]
  },
  {
   "cell_type": "markdown",
   "metadata": {},
   "source": [
    "### Splitting the Data and Target\n"
   ]
  },
  {
   "cell_type": "code",
   "execution_count": 11,
   "metadata": {
    "execution": {
     "iopub.execute_input": "2023-12-12T06:55:52.595820Z",
     "iopub.status.busy": "2023-12-12T06:55:52.595322Z",
     "iopub.status.idle": "2023-12-12T06:55:52.603573Z",
     "shell.execute_reply": "2023-12-12T06:55:52.601807Z",
     "shell.execute_reply.started": "2023-12-12T06:55:52.595776Z"
    }
   },
   "outputs": [],
   "source": [
    "X=car_dataset.drop(['Car_Name','Selling_Price'],axis=1)\n",
    "y=car_dataset['Selling_Price']"
   ]
  },
  {
   "cell_type": "code",
   "execution_count": 12,
   "metadata": {
    "execution": {
     "iopub.execute_input": "2023-12-12T06:55:55.863049Z",
     "iopub.status.busy": "2023-12-12T06:55:55.862121Z",
     "iopub.status.idle": "2023-12-12T06:55:55.875096Z",
     "shell.execute_reply": "2023-12-12T06:55:55.873639Z",
     "shell.execute_reply.started": "2023-12-12T06:55:55.862995Z"
    }
   },
   "outputs": [
    {
     "name": "stdout",
     "output_type": "stream",
     "text": [
      "     Year  Present_Price  Kms_Driven  Fuel_Type  Seller_Type  Transmission  \\\n",
      "0    2014           5.59       27000          0            0             0   \n",
      "1    2013           9.54       43000          1            0             0   \n",
      "2    2017           9.85        6900          0            0             0   \n",
      "3    2011           4.15        5200          0            0             0   \n",
      "4    2014           6.87       42450          1            0             0   \n",
      "..    ...            ...         ...        ...          ...           ...   \n",
      "296  2016          11.60       33988          1            0             0   \n",
      "297  2015           5.90       60000          0            0             0   \n",
      "298  2009          11.00       87934          0            0             0   \n",
      "299  2017          12.50        9000          1            0             0   \n",
      "300  2016           5.90        5464          0            0             0   \n",
      "\n",
      "     Owner  \n",
      "0        0  \n",
      "1        0  \n",
      "2        0  \n",
      "3        0  \n",
      "4        0  \n",
      "..     ...  \n",
      "296      0  \n",
      "297      0  \n",
      "298      0  \n",
      "299      0  \n",
      "300      0  \n",
      "\n",
      "[301 rows x 7 columns]\n"
     ]
    }
   ],
   "source": [
    "print(X)"
   ]
  },
  {
   "cell_type": "code",
   "execution_count": 13,
   "metadata": {
    "execution": {
     "iopub.execute_input": "2023-12-12T06:55:57.092074Z",
     "iopub.status.busy": "2023-12-12T06:55:57.091648Z",
     "iopub.status.idle": "2023-12-12T06:55:57.100380Z",
     "shell.execute_reply": "2023-12-12T06:55:57.098903Z",
     "shell.execute_reply.started": "2023-12-12T06:55:57.092034Z"
    }
   },
   "outputs": [
    {
     "name": "stdout",
     "output_type": "stream",
     "text": [
      "0       3.35\n",
      "1       4.75\n",
      "2       7.25\n",
      "3       2.85\n",
      "4       4.60\n",
      "       ...  \n",
      "296     9.50\n",
      "297     4.00\n",
      "298     3.35\n",
      "299    11.50\n",
      "300     5.30\n",
      "Name: Selling_Price, Length: 301, dtype: float64\n"
     ]
    }
   ],
   "source": [
    "print(y)"
   ]
  },
  {
   "cell_type": "markdown",
   "metadata": {},
   "source": []
  },
  {
   "cell_type": "markdown",
   "metadata": {},
   "source": [
    "### Splitting the Data into Training and Testing"
   ]
  },
  {
   "cell_type": "code",
   "execution_count": 14,
   "metadata": {
    "execution": {
     "iopub.execute_input": "2023-12-12T06:56:02.021956Z",
     "iopub.status.busy": "2023-12-12T06:56:02.021509Z",
     "iopub.status.idle": "2023-12-12T06:56:02.034403Z",
     "shell.execute_reply": "2023-12-12T06:56:02.032979Z",
     "shell.execute_reply.started": "2023-12-12T06:56:02.021916Z"
    }
   },
   "outputs": [],
   "source": [
    "X_train,X_test,y_train,y_test=train_test_split(X,y,test_size=0.1,random_state=2)"
   ]
  },
  {
   "cell_type": "markdown",
   "metadata": {},
   "source": [
    "### Model Training\n",
    "1. Linear Regression"
   ]
  },
  {
   "cell_type": "code",
   "execution_count": 15,
   "metadata": {
    "execution": {
     "iopub.execute_input": "2023-12-12T06:56:03.699660Z",
     "iopub.status.busy": "2023-12-12T06:56:03.699229Z",
     "iopub.status.idle": "2023-12-12T06:56:03.705518Z",
     "shell.execute_reply": "2023-12-12T06:56:03.704316Z",
     "shell.execute_reply.started": "2023-12-12T06:56:03.699622Z"
    }
   },
   "outputs": [],
   "source": [
    "lin_reg=LinearRegression()"
   ]
  },
  {
   "cell_type": "code",
   "execution_count": 16,
   "metadata": {
    "execution": {
     "iopub.execute_input": "2023-12-12T06:56:04.497701Z",
     "iopub.status.busy": "2023-12-12T06:56:04.497233Z",
     "iopub.status.idle": "2023-12-12T06:56:04.523138Z",
     "shell.execute_reply": "2023-12-12T06:56:04.521832Z",
     "shell.execute_reply.started": "2023-12-12T06:56:04.497659Z"
    }
   },
   "outputs": [
    {
     "data": {
      "text/plain": [
       "LinearRegression()"
      ]
     },
     "execution_count": 16,
     "metadata": {},
     "output_type": "execute_result"
    }
   ],
   "source": [
    "lin_reg.fit(X_train,y_train)"
   ]
  },
  {
   "cell_type": "markdown",
   "metadata": {},
   "source": [
    "### Model Evaluation"
   ]
  },
  {
   "cell_type": "code",
   "execution_count": 17,
   "metadata": {
    "execution": {
     "iopub.execute_input": "2023-12-12T06:56:06.274343Z",
     "iopub.status.busy": "2023-12-12T06:56:06.273562Z",
     "iopub.status.idle": "2023-12-12T06:56:06.282825Z",
     "shell.execute_reply": "2023-12-12T06:56:06.281287Z",
     "shell.execute_reply.started": "2023-12-12T06:56:06.274280Z"
    }
   },
   "outputs": [],
   "source": [
    "# Prediction on training data\n",
    "Train_data_pred=lin_reg.predict(X_train)"
   ]
  },
  {
   "cell_type": "markdown",
   "metadata": {},
   "source": [
    "### R square error"
   ]
  },
  {
   "cell_type": "code",
   "execution_count": 18,
   "metadata": {
    "execution": {
     "iopub.execute_input": "2023-12-12T06:56:07.783400Z",
     "iopub.status.busy": "2023-12-12T06:56:07.782608Z",
     "iopub.status.idle": "2023-12-12T06:56:07.789738Z",
     "shell.execute_reply": "2023-12-12T06:56:07.788315Z",
     "shell.execute_reply.started": "2023-12-12T06:56:07.783356Z"
    }
   },
   "outputs": [
    {
     "name": "stdout",
     "output_type": "stream",
     "text": [
      "R squared error 0.8799451660493708\n"
     ]
    }
   ],
   "source": [
    "error_score=metrics.r2_score(y_train,Train_data_pred)\n",
    "print(\"R squared error\", error_score)"
   ]
  },
  {
   "cell_type": "markdown",
   "metadata": {},
   "source": [
    "### Visualize the Actual price and Predicted Price"
   ]
  },
  {
   "cell_type": "code",
   "execution_count": 19,
   "metadata": {
    "execution": {
     "iopub.execute_input": "2023-12-12T06:56:08.862242Z",
     "iopub.status.busy": "2023-12-12T06:56:08.861798Z",
     "iopub.status.idle": "2023-12-12T06:56:09.141559Z",
     "shell.execute_reply": "2023-12-12T06:56:09.140086Z",
     "shell.execute_reply.started": "2023-12-12T06:56:08.862200Z"
    }
   },
   "outputs": [
    {
     "data": {
      "image/png": "[encoded data removed]",
      "text/plain": [
       "<Figure size 640x480 with 1 Axes>"
      ]
     },
     "metadata": {},
     "output_type": "display_data"
    }
   ],
   "source": [
    "plt.scatter(y_train,Train_data_pred)\n",
    "plt.xlabel(\"Actual Price\")\n",
    "plt.ylabel(\"Predicted Price\")\n",
    "plt.title(\" Actual Price vs Predicted Price \")\n",
    "plt.show()"
   ]
  },
  {
   "cell_type": "markdown",
   "metadata": {},
   "source": [
    "### Predicting Test Data\n"
   ]
  },
  {
   "cell_type": "code",
   "execution_count": 20,
   "metadata": {
    "execution": {
     "iopub.execute_input": "2023-12-12T06:56:11.837939Z",
     "iopub.status.busy": "2023-12-12T06:56:11.837498Z",
     "iopub.status.idle": "2023-12-12T06:56:11.846764Z",
     "shell.execute_reply": "2023-12-12T06:56:11.845271Z",
     "shell.execute_reply.started": "2023-12-12T06:56:11.837897Z"
    }
   },
   "outputs": [],
   "source": [
    "# Prediction on testing data\n",
    "Test_data_pred=lin_reg.predict(X_test)"
   ]
  },
  {
   "cell_type": "code",
   "execution_count": 21,
   "metadata": {
    "execution": {
     "iopub.execute_input": "2023-12-12T06:56:12.960668Z",
     "iopub.status.busy": "2023-12-12T06:56:12.959608Z",
     "iopub.status.idle": "2023-12-12T06:56:12.968339Z",
     "shell.execute_reply": "2023-12-12T06:56:12.967002Z",
     "shell.execute_reply.started": "2023-12-12T06:56:12.960620Z"
    }
   },
   "outputs": [
    {
     "name": "stdout",
     "output_type": "stream",
     "text": [
      "R squared error 0.8365766715027054\n"
     ]
    }
   ],
   "source": [
    "error_score=metrics.r2_score(y_test,Test_data_pred)\n",
    "print(\"R squared error\", error_score)"
   ]
  },
  {
   "cell_type": "code",
   "execution_count": 22,
   "metadata": {
    "execution": {
     "iopub.execute_input": "2023-12-12T06:56:13.563726Z",
     "iopub.status.busy": "2023-12-12T06:56:13.563273Z",
     "iopub.status.idle": "2023-12-12T06:56:13.812041Z",
     "shell.execute_reply": "2023-12-12T06:56:13.810461Z",
     "shell.execute_reply.started": "2023-12-12T06:56:13.563687Z"
    }
   },
   "outputs": [
    {
     "data": {
      "image/png": "[encoded data removed]",
      "text/plain": [
       "<Figure size 640x480 with 1 Axes>"
      ]
     },
     "metadata": {},
     "output_type": "display_data"
    }
   ],
   "source": [
    "plt.scatter(y_test,Test_data_pred)\n",
    "plt.xlabel(\"Actual Price\")\n",
    "plt.ylabel(\"Predicted Price\")\n",
    "plt.title(\" Actual Price vs Predicted Price \")\n",
    "plt.show()"
   ]
  },
  {
   "cell_type": "markdown",
   "metadata": {},
   "source": [
    "### Lasso Regression"
   ]
  },
  {
   "cell_type": "code",
   "execution_count": 23,
   "metadata": {
    "execution": {
     "iopub.execute_input": "2023-12-12T06:56:14.904132Z",
     "iopub.status.busy": "2023-12-12T06:56:14.903678Z",
     "iopub.status.idle": "2023-12-12T06:56:14.910516Z",
     "shell.execute_reply": "2023-12-12T06:56:14.909059Z",
     "shell.execute_reply.started": "2023-12-12T06:56:14.904078Z"
    }
   },
   "outputs": [],
   "source": [
    "las_reg=Lasso()"
   ]
  },
  {
   "cell_type": "code",
   "execution_count": 24,
   "metadata": {
    "execution": {
     "iopub.execute_input": "2023-12-12T06:56:15.481271Z",
     "iopub.status.busy": "2023-12-12T06:56:15.480782Z",
     "iopub.status.idle": "2023-12-12T06:56:15.499144Z",
     "shell.execute_reply": "2023-12-12T06:56:15.497561Z",
     "shell.execute_reply.started": "2023-12-12T06:56:15.481226Z"
    }
   },
   "outputs": [
    {
     "data": {
      "text/plain": [
       "Lasso()"
      ]
     },
     "execution_count": 24,
     "metadata": {},
     "output_type": "execute_result"
    }
   ],
   "source": [
    "las_reg.fit(X_train,y_train)"
   ]
  },
  {
   "cell_type": "code",
   "execution_count": 25,
   "metadata": {
    "execution": {
     "iopub.execute_input": "2023-12-12T06:56:17.451049Z",
     "iopub.status.busy": "2023-12-12T06:56:17.450569Z",
     "iopub.status.idle": "2023-12-12T06:56:17.459176Z",
     "shell.execute_reply": "2023-12-12T06:56:17.457621Z",
     "shell.execute_reply.started": "2023-12-12T06:56:17.450996Z"
    }
   },
   "outputs": [],
   "source": [
    "# Prediction on training data\n",
    "Train_data_pred=las_reg.predict(X_train)"
   ]
  },
  {
   "cell_type": "code",
   "execution_count": 26,
   "metadata": {
    "execution": {
     "iopub.execute_input": "2023-12-12T06:56:18.885013Z",
     "iopub.status.busy": "2023-12-12T06:56:18.884158Z",
     "iopub.status.idle": "2023-12-12T06:56:18.893783Z",
     "shell.execute_reply": "2023-12-12T06:56:18.892178Z",
     "shell.execute_reply.started": "2023-12-12T06:56:18.884959Z"
    }
   },
   "outputs": [
    {
     "name": "stdout",
     "output_type": "stream",
     "text": [
      "R squared error 0.8427856123435794\n"
     ]
    }
   ],
   "source": [
    "error_score=metrics.r2_score(y_train,Train_data_pred)\n",
    "print(\"R squared error\", error_score)"
   ]
  },
  {
   "cell_type": "code",
   "execution_count": 27,
   "metadata": {
    "execution": {
     "iopub.execute_input": "2023-12-12T06:56:19.620000Z",
     "iopub.status.busy": "2023-12-12T06:56:19.619522Z",
     "iopub.status.idle": "2023-12-12T06:56:19.866081Z",
     "shell.execute_reply": "2023-12-12T06:56:19.864719Z",
     "shell.execute_reply.started": "2023-12-12T06:56:19.619956Z"
    }
   },
   "outputs": [
    {
     "data": {
      "image/png": "[encoded data removed]",
      "text/plain": [
       "<Figure size 640x480 with 1 Axes>"
      ]
     },
     "metadata": {},
     "output_type": "display_data"
    }
   ],
   "source": [
    "plt.scatter(y_train,Train_data_pred)\n",
    "plt.xlabel(\"Actual Price\")\n",
    "plt.ylabel(\"Predicted Price\")\n",
    "plt.title(\" Actual Price vs Predicted Price \")\n",
    "plt.show()"
   ]
  },
  {
   "cell_type": "code",
   "execution_count": 28,
   "metadata": {
    "execution": {
     "iopub.execute_input": "2023-12-12T06:56:21.052574Z",
     "iopub.status.busy": "2023-12-12T06:56:21.052086Z",
     "iopub.status.idle": "2023-12-12T06:56:21.061427Z",
     "shell.execute_reply": "2023-12-12T06:56:21.059850Z",
     "shell.execute_reply.started": "2023-12-12T06:56:21.052529Z"
    }
   },
   "outputs": [],
   "source": [
    "# Prediction on testing data\n",
    "Test_data_pred=las_reg.predict(X_test)"
   ]
  },
  {
   "cell_type": "code",
   "execution_count": 29,
   "metadata": {
    "execution": {
     "iopub.execute_input": "2023-12-12T06:56:21.687746Z",
     "iopub.status.busy": "2023-12-12T06:56:21.687243Z",
     "iopub.status.idle": "2023-12-12T06:56:21.695417Z",
     "shell.execute_reply": "2023-12-12T06:56:21.693941Z",
     "shell.execute_reply.started": "2023-12-12T06:56:21.687700Z"
    }
   },
   "outputs": [
    {
     "name": "stdout",
     "output_type": "stream",
     "text": [
      "R squared error 0.8709167941173195\n"
     ]
    }
   ],
   "source": [
    "error_score=metrics.r2_score(y_test,Test_data_pred)\n",
    "print(\"R squared error\", error_score)"
   ]
  },
  {
   "cell_type": "code",
   "execution_count": 30,
   "metadata": {
    "execution": {
     "iopub.execute_input": "2023-12-12T06:56:22.261011Z",
     "iopub.status.busy": "2023-12-12T06:56:22.260526Z",
     "iopub.status.idle": "2023-12-12T06:56:22.505926Z",
     "shell.execute_reply": "2023-12-12T06:56:22.504566Z",
     "shell.execute_reply.started": "2023-12-12T06:56:22.260964Z"
    }
   },
   "outputs": [
    {
     "data": {
      "image/png": "[encoded data removed]",
      "text/plain": [
       "<Figure size 640x480 with 1 Axes>"
      ]
     },
     "metadata": {},
     "output_type": "display_data"
    }
   ],
   "source": [
    "plt.scatter(y_test,Test_data_pred)\n",
    "plt.xlabel(\"Actual Price\")\n",
    "plt.ylabel(\"Predicted Price\")\n",
    "plt.title(\" Actual Price vs Predicted Price \")\n",
    "plt.show()"
   ]
  },
  {
   "cell_type": "code",
   "execution_count": null,
   "metadata": {},
   "outputs": [],
   "source": []
  }
 ],
 "metadata": {
  "kaggle": {
   "accelerator": "none",
   "dataSources": [
    {
     "datasetId": 33080,
     "sourceId": 4852390,
     "sourceType": "datasetVersion"
    }
   ],
   "dockerImageVersionId": 30407,
   "isGpuEnabled": false,
   "isInternetEnabled": true,
   "language": "python",
   "sourceType": "notebook"
  },
  "kernelspec": {
   "display_name": "Python 3 (ipykernel)",
   "language": "python",
   "name": "python3"
  },
  "language_info": {
   "codemirror_mode": {
    "name": "ipython",
    "version": 3
   },
   "file_extension": ".py",
   "mimetype": "text/x-python",
   "name": "python",
   "nbconvert_exporter": "python",
   "pygments_lexer": "ipython3",
   "version": "3.7.12"
  }
 },
 "nbformat": 4,
 "nbformat_minor": 4
}
